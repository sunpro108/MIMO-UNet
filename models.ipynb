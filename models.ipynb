{
 "cells": [
  {
   "cell_type": "markdown",
   "metadata": {},
   "source": [
    "# DWT Image for MIMO-UNet\n",
    "\n",
    "## dwt with 3 levels"
   ]
  },
  {
   "cell_type": "code",
   "execution_count": 50,
   "metadata": {},
   "outputs": [],
   "source": [
    "import torch\n",
    "from pytorch_wavelets import DWTForward, DWTInverse\n",
    "from einops import rearrange, reduce, repeat\n",
    "from PIL import Image\n",
    "\n",
    "from data import valid_dataloader"
   ]
  },
  {
   "cell_type": "code",
   "execution_count": 51,
   "metadata": {},
   "outputs": [
    {
     "data": {
      "text/plain": [
       "(torch.Size([64, 3, 256, 256]),\n",
       " torch.float32,\n",
       " torch.Size([64, 1, 256, 256]),\n",
       " torch.float32,\n",
       " tensor(1.),\n",
       " tensor(0.))"
      ]
     },
     "execution_count": 51,
     "metadata": {},
     "output_type": "execute_result"
    }
   ],
   "source": [
    "dataloader = valid_dataloader(subset='Hday2night')\n",
    "data = next(iter(dataloader))\n",
    "comp, real, mask = data\n",
    "comp.shape, comp.dtype, mask.shape, mask.dtype, mask.max(), mask.min()"
   ]
  },
  {
   "cell_type": "markdown",
   "metadata": {},
   "source": [
    "## show the dataloader"
   ]
  },
  {
   "cell_type": "code",
   "execution_count": null,
   "metadata": {},
   "outputs": [],
   "source": [
    "def f2i(image):\n",
    "    # image = 0.5 * image + 0.5\n",
    "    # float -> uint8\n",
    "    image = 255 * torch.clip(image, 0, 1.0)\n",
    "    image = image.to(torch.uint8)\n",
    "    return image"
   ]
  },
  {
   "cell_type": "code",
   "execution_count": null,
   "metadata": {},
   "outputs": [],
   "source": [
    "ms = repeat(mask, 'b c h w -> b (n c) h w', n = 3)\n",
    "cs = 0.5 * comp + 0.5\n",
    "rs = 0.5 * real + 0.5\n",
    "img = torch.concat([cs, rs, ms], dim=3)\n",
    "img_show = f2i(img)\n",
    "img_show = rearrange(img_show, 'b c h w -> (b h) w c')\n",
    "img_show = Image.fromarray(img_show.numpy())\n",
    "img_show"
   ]
  },
  {
   "cell_type": "markdown",
   "metadata": {},
   "source": [
    "## DWT "
   ]
  },
  {
   "cell_type": "code",
   "execution_count": null,
   "metadata": {},
   "outputs": [],
   "source": [
    "level = 2\n",
    "wavelet = 'haar'\n",
    "# 构建小波变换函数\n",
    "dwt = DWTForward(J=level, wave=wavelet, mode='zero')\n",
    "iwt = DWTInverse(wave=wavelet, mode='zero')\n",
    "yc = dwt(comp)\n",
    "yr = dwt(real)\n",
    "ym = dwt(mask)\n",
    "ycl, ych = yc\n",
    "yrl, yrh = yr\n",
    "yml, ymh = ym\n",
    "\n",
    "ycl.shape, ych[0].shape, yml.shape, ymh[0].shape"
   ]
  },
  {
   "cell_type": "code",
   "execution_count": null,
   "metadata": {},
   "outputs": [],
   "source": [
    "ycl.max(), ycl.min()"
   ]
  },
  {
   "cell_type": "code",
   "execution_count": null,
   "metadata": {},
   "outputs": [],
   "source": [
    "## low frequency show\n",
    "ms = repeat(yml, 'b c h w -> b (n c) h w', n = 3)\n",
    "# cs = 0.5 * ycl + 0.5\n",
    "cs = (ycl - ycl.min()) / (ycl.max() - ycl.min())\n",
    "rs = (yrl - yrl.min()) / (yrl.max() - yrl.min())\n",
    "# rs = 0.5 * yrl + 0.5\n",
    "img = torch.concat([cs, rs, ms], dim=3)\n",
    "img_show = f2i(img)\n",
    "img_show = rearrange(img_show, 'b c h w -> (b h) w c')\n",
    "img_show = Image.fromarray(img_show.numpy())\n",
    "img_show"
   ]
  },
  {
   "cell_type": "code",
   "execution_count": null,
   "metadata": {},
   "outputs": [],
   "source": [
    "ychh = ych[0]\n",
    "yrhh = yrh[0]\n",
    "ymhh = ymh[0]\n",
    "ychh.shape, ymhh.shape"
   ]
  },
  {
   "cell_type": "code",
   "execution_count": null,
   "metadata": {},
   "outputs": [],
   "source": [
    "ychh.max(), ychh.min()"
   ]
  },
  {
   "cell_type": "code",
   "execution_count": null,
   "metadata": {},
   "outputs": [],
   "source": [
    "## low frequency show\n",
    "ms = repeat(ymhh, 'b c d h w -> b (n c) d h w', n = 3)\n",
    "cs = 0.5 * ychh + 0.5\n",
    "rs = 0.5 * yrhh + 0.5\n",
    "img = torch.concat([cs, rs, ms], dim=3)\n",
    "img_show = f2i(img)\n",
    "img_show = rearrange(img_show, 'b c h w -> (b h) w c')\n",
    "img_show = Image.fromarray(img_show.numpy())\n",
    "img_show"
   ]
  },
  {
   "cell_type": "code",
   "execution_count": null,
   "metadata": {},
   "outputs": [],
   "source": []
  }
 ],
 "metadata": {
  "kernelspec": {
   "display_name": "vqvae",
   "language": "python",
   "name": "python3"
  },
  "language_info": {
   "codemirror_mode": {
    "name": "ipython",
    "version": 3
   },
   "file_extension": ".py",
   "mimetype": "text/x-python",
   "name": "python",
   "nbconvert_exporter": "python",
   "pygments_lexer": "ipython3",
   "version": "3.10.13"
  }
 },
 "nbformat": 4,
 "nbformat_minor": 2
}
